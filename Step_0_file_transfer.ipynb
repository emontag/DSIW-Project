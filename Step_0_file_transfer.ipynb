{
 "cells": [
  {
   "cell_type": "code",
   "execution_count": 46,
   "metadata": {
    "collapsed": true
   },
   "outputs": [],
   "source": [
    "import glob\n",
    "import shutil\n",
    "import pandas as pd\n",
    "from collections import defaultdict\n",
    "import numpy as np\n",
    "import matplotlib.pyplot as plt\n",
    "from PIL import Image\n",
    "import os\n",
    "from os import listdir, makedirs\n",
    "from os.path import isfile, join, exists\n",
    "%matplotlib inline\n",
    "from tqdm import tqdm"
   ]
  },
  {
   "cell_type": "code",
   "execution_count": 47,
   "metadata": {
    "collapsed": true
   },
   "outputs": [],
   "source": [
    "# Create working directory for Training data\n",
    "train_wd = os.path.join(os.getcwd(),'train')\n",
    "downloaded_files = [f for f in listdir(train_wd) if isfile(join(train_wd, f))]"
   ]
  },
  {
   "cell_type": "code",
   "execution_count": 3,
   "metadata": {
    "collapsed": true
   },
   "outputs": [],
   "source": [
    "df = pd.read_csv(\"train.csv\")"
   ]
  },
  {
   "cell_type": "code",
   "execution_count": 40,
   "metadata": {
    "scrolled": true
   },
   "outputs": [
    {
     "name": "stdout",
     "output_type": "stream",
     "text": [
      "14950\n"
     ]
    }
   ],
   "source": [
    "tuples = list(zip(df[\"landmark_id\"], df[\"id\"]))\n",
    "lm_dict = defaultdict(list)\n",
    "for tup in tuples:\n",
    "    lm_dict[tup[0]].append(tup[1])\n",
    "\n",
    "print(max(lm_dict.keys())) # 14950"
   ]
  },
  {
   "cell_type": "code",
   "execution_count": 39,
   "metadata": {},
   "outputs": [
    {
     "name": "stderr",
     "output_type": "stream",
     "text": [
      "\n",
      "  0%|          | 0/6318 [00:00<?, ?it/s]\n",
      "  1%|          | 32/6318 [00:00<00:20, 312.47it/s]\n",
      "  1%|          | 60/6318 [00:00<00:21, 295.86it/s]\n",
      "  2%|▏         | 101/6318 [00:00<00:18, 332.02it/s]\n",
      "  2%|▏         | 133/6318 [00:00<00:18, 327.10it/s]\n",
      "  3%|▎         | 171/6318 [00:00<00:18, 337.26it/s]\n",
      "  3%|▎         | 208/6318 [00:00<00:17, 342.43it/s]\n",
      "  4%|▍         | 248/6318 [00:00<00:17, 350.38it/s]\n",
      "  5%|▍         | 293/6318 [00:00<00:16, 362.09it/s]\n",
      "  5%|▌         | 334/6318 [00:00<00:16, 367.20it/s]\n",
      "  6%|▌         | 373/6318 [00:01<00:16, 363.53it/s]\n",
      "  7%|▋         | 412/6318 [00:01<00:16, 365.10it/s]\n",
      "  7%|▋         | 453/6318 [00:01<00:15, 368.33it/s]\n",
      "  8%|▊         | 492/6318 [00:01<00:15, 366.53it/s]\n",
      "  8%|▊         | 530/6318 [00:01<00:15, 367.62it/s]\n",
      "  9%|▉         | 571/6318 [00:01<00:15, 370.03it/s]\n",
      " 10%|▉         | 612/6318 [00:01<00:15, 372.38it/s]\n",
      " 10%|█         | 655/6318 [00:01<00:15, 375.38it/s]\n",
      " 11%|█         | 696/6318 [00:01<00:14, 376.15it/s]\n",
      " 12%|█▏        | 739/6318 [00:01<00:14, 378.64it/s]\n",
      " 12%|█▏        | 780/6318 [00:02<00:14, 379.54it/s]\n",
      " 13%|█▎        | 823/6318 [00:02<00:14, 381.63it/s]\n",
      " 14%|█▎        | 864/6318 [00:02<00:14, 380.79it/s]\n",
      " 14%|█▍        | 905/6318 [00:02<00:14, 381.64it/s]\n",
      " 15%|█▍        | 945/6318 [00:02<00:14, 380.31it/s]\n",
      " 16%|█▌        | 986/6318 [00:02<00:13, 381.25it/s]\n",
      " 16%|█▋        | 1027/6318 [00:02<00:13, 382.12it/s]\n",
      " 17%|█▋        | 1067/6318 [00:02<00:13, 382.71it/s]\n",
      " 18%|█▊        | 1107/6318 [00:02<00:13, 382.99it/s]\n",
      " 18%|█▊        | 1147/6318 [00:02<00:13, 382.48it/s]\n",
      " 19%|█▉        | 1186/6318 [00:03<00:13, 381.68it/s]\n",
      " 19%|█▉        | 1224/6318 [00:03<00:13, 381.35it/s]\n",
      " 20%|██        | 1267/6318 [00:03<00:13, 382.77it/s]\n",
      " 21%|██        | 1307/6318 [00:03<00:13, 383.00it/s]\n",
      " 21%|██▏       | 1347/6318 [00:03<00:12, 383.23it/s]Exception in thread Thread-7:\n",
      "Traceback (most recent call last):\n",
      "  File \"C:\\Users\\hn325\\AppData\\Local\\Continuum\\anaconda3\\lib\\threading.py\", line 916, in _bootstrap_inner\n",
      "    self.run()\n",
      "  File \"C:\\Users\\hn325\\AppData\\Local\\Continuum\\anaconda3\\lib\\site-packages\\tqdm\\_monitor.py\", line 62, in run\n",
      "    for instance in self.tqdm_cls._instances:\n",
      "  File \"C:\\Users\\hn325\\AppData\\Local\\Continuum\\anaconda3\\lib\\_weakrefset.py\", line 60, in __iter__\n",
      "    for itemref in self.data:\n",
      "RuntimeError: Set changed size during iteration\n",
      "\n",
      "100%|██████████| 6318/6318 [00:16<00:00, 386.88it/s]\n"
     ]
    }
   ],
   "source": [
    "import cv2\n",
    "img_size = (32,32)\n",
    "for i in tqdm([*lm_dict]):\n",
    "    filename = str(i) + \".jpg\"\n",
    "    if filename in downloaded_files:\n",
    "        p=os.path.join(train_wd,filename)\n",
    "        img=cv2.imread(p)\n",
    "        img = cv2.resize(img, img_size)\n",
    "        imwrite(filename,img)"
   ]
  },
  {
   "cell_type": "code",
   "execution_count": 42,
   "metadata": {
    "collapsed": true
   },
   "outputs": [],
   "source": [
    "#transfer 10% of data in train to a new folder called val\n",
    "val_wd=os.path.join(os.getcwd(),'val')\n",
    "if not exists(val_wd):\n",
    "    makedirs(val_wd)\n"
   ]
  },
  {
   "cell_type": "code",
   "execution_count": 43,
   "metadata": {
    "collapsed": true
   },
   "outputs": [],
   "source": [
    "val_files = downloaded_files[:len(downloaded_files)//100]\n",
    "train_files = downloaded_files[len(downloaded_files)//100:]"
   ]
  },
  {
   "cell_type": "code",
   "execution_count": 45,
   "metadata": {},
   "outputs": [
    {
     "name": "stderr",
     "output_type": "stream",
     "text": [
      "0it [00:00, ?it/s]\n"
     ]
    }
   ],
   "source": [
    "for count,key in tqdm(enumerate([*lm_dict])):\n",
    "        break\n",
    "    newpath = os.path.join(train_wd, str(key))\n",
    "    valpath = os.path.join(val_wd, str(key))\n",
    "    for img in lm_dict[key]:\n",
    "        filename = str(img) + \".jpg\"\n",
    "        if exists(os.path.join(train_wd, filename)) and filename in train_files:\n",
    "            if not exists(newpath):\n",
    "                makedirs(newpath)\n",
    "            shutil.move(os.path.join(train_wd, filename), os.path.join(newpath, filename))\n",
    "        elif exists(os.path.join(train_wd, filename)) and filename in val_files:\n",
    "            if not exists(valpath):\n",
    "                makedirs(valpath)\n",
    "            shutil.move(os.path.join(train_wd, filename), os.path.join(valpath, filename))"
   ]
  },
  {
   "cell_type": "code",
   "execution_count": 25,
   "metadata": {},
   "outputs": [
    {
     "data": {
      "text/plain": [
       "['f8b4331969d03317',\n",
       " '16457eeb52a833bc',\n",
       " 'a97ca1efa3f90a74',\n",
       " 'c4e2322b61284f48',\n",
       " '58140b30faf3e3fe',\n",
       " '3540cecb30d8d6dd']"
      ]
     },
     "execution_count": 25,
     "metadata": {},
     "output_type": "execute_result"
    }
   ],
   "source": [
    "lm_dict[2]"
   ]
  },
  {
   "cell_type": "code",
   "execution_count": null,
   "metadata": {
    "collapsed": true
   },
   "outputs": [],
   "source": []
  }
 ],
 "metadata": {
  "kernelspec": {
   "display_name": "Python 3",
   "language": "python",
   "name": "python3"
  },
  "language_info": {
   "codemirror_mode": {
    "name": "ipython",
    "version": 3
   },
   "file_extension": ".py",
   "mimetype": "text/x-python",
   "name": "python",
   "nbconvert_exporter": "python",
   "pygments_lexer": "ipython3",
   "version": "3.6.3"
  }
 },
 "nbformat": 4,
 "nbformat_minor": 2
}
